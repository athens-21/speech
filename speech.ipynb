{
  "nbformat": 4,
  "nbformat_minor": 0,
  "metadata": {
    "colab": {
      "provenance": [],
      "authorship_tag": "ABX9TyN6P034QaFQVwmzMj00AO2E",
      "include_colab_link": true
    },
    "kernelspec": {
      "name": "python3",
      "display_name": "Python 3"
    },
    "language_info": {
      "name": "python"
    }
  },
  "cells": [
    {
      "cell_type": "markdown",
      "metadata": {
        "id": "view-in-github",
        "colab_type": "text"
      },
      "source": [
        "<a href=\"https://colab.research.google.com/github/athens-21/speech/blob/main/speech.ipynb\" target=\"_parent\"><img src=\"https://colab.research.google.com/assets/colab-badge.svg\" alt=\"Open In Colab\"/></a>"
      ]
    },
    {
      "cell_type": "code",
      "source": [
        "pip install SpeechRecognition\n"
      ],
      "metadata": {
        "colab": {
          "base_uri": "https://localhost:8080/"
        },
        "id": "weHpUNFZiUZ0",
        "outputId": "11680c74-589f-4975-90f9-6d492b4eed72"
      },
      "execution_count": null,
      "outputs": [
        {
          "output_type": "stream",
          "name": "stdout",
          "text": [
            "Collecting SpeechRecognition\n",
            "  Downloading SpeechRecognition-3.11.0-py2.py3-none-any.whl.metadata (28 kB)\n",
            "Requirement already satisfied: requests>=2.26.0 in /usr/local/lib/python3.10/dist-packages (from SpeechRecognition) (2.32.3)\n",
            "Requirement already satisfied: typing-extensions in /usr/local/lib/python3.10/dist-packages (from SpeechRecognition) (4.12.2)\n",
            "Requirement already satisfied: charset-normalizer<4,>=2 in /usr/local/lib/python3.10/dist-packages (from requests>=2.26.0->SpeechRecognition) (3.4.0)\n",
            "Requirement already satisfied: idna<4,>=2.5 in /usr/local/lib/python3.10/dist-packages (from requests>=2.26.0->SpeechRecognition) (3.10)\n",
            "Requirement already satisfied: urllib3<3,>=1.21.1 in /usr/local/lib/python3.10/dist-packages (from requests>=2.26.0->SpeechRecognition) (2.2.3)\n",
            "Requirement already satisfied: certifi>=2017.4.17 in /usr/local/lib/python3.10/dist-packages (from requests>=2.26.0->SpeechRecognition) (2024.8.30)\n",
            "Downloading SpeechRecognition-3.11.0-py2.py3-none-any.whl (32.8 MB)\n",
            "\u001b[2K   \u001b[90m━━━━━━━━━━━━━━━━━━━━━━━━━━━━━━━━━━━━━━━━\u001b[0m \u001b[32m32.8/32.8 MB\u001b[0m \u001b[31m51.7 MB/s\u001b[0m eta \u001b[36m0:00:00\u001b[0m\n",
            "\u001b[?25hInstalling collected packages: SpeechRecognition\n",
            "Successfully installed SpeechRecognition-3.11.0\n"
          ]
        }
      ]
    },
    {
      "cell_type": "code",
      "source": [
        "pip install pydub\n"
      ],
      "metadata": {
        "colab": {
          "base_uri": "https://localhost:8080/"
        },
        "id": "E5iK1iEPim0Q",
        "outputId": "d53c4241-684a-406d-cf2a-3b517c677bdc"
      },
      "execution_count": null,
      "outputs": [
        {
          "output_type": "stream",
          "name": "stdout",
          "text": [
            "Collecting pydub\n",
            "  Downloading pydub-0.25.1-py2.py3-none-any.whl.metadata (1.4 kB)\n",
            "Downloading pydub-0.25.1-py2.py3-none-any.whl (32 kB)\n",
            "Installing collected packages: pydub\n",
            "Successfully installed pydub-0.25.1\n"
          ]
        }
      ]
    },
    {
      "cell_type": "markdown",
      "source": [],
      "metadata": {
        "id": "W-3XJlbHmqU4"
      }
    },
    {
      "cell_type": "code",
      "source": [
        "import speech_recognition as sr\n",
        "from math import ceil\n",
        "import wave\n",
        "\n",
        "wav_file = \"your_audio.WAV\"\n",
        "\n",
        "def get_audio_duration(wav_file):\n",
        "    with wave.open(wav_file, 'r') as audio:\n",
        "        frames = audio.getnframes()\n",
        "        rate = audio.getframerate()\n",
        "        duration = frames / float(rate)\n",
        "        return duration\n",
        "\n",
        "recognizer = sr.Recognizer()\n",
        "\n",
        "def transcribe_audio(wav_file, segment_duration=15):\n",
        "    try:\n",
        "        total_duration = get_audio_duration(wav_file)\n",
        "        print(f\"ความยาวของไฟล์เสียง: {total_duration:.2f} วินาที\")\n",
        "\n",
        "        with sr.AudioFile(wav_file) as source:\n",
        "            for i in range(ceil(total_duration / segment_duration)):\n",
        "                offset = i * segment_duration\n",
        "                duration = min(segment_duration, total_duration - offset)\n",
        "                print(f\"กำลังถอดเสียงช่วงที่ {i+1} (offset: {offset}s, duration: {duration}s)...\")\n",
        "\n",
        "                audio_data = recognizer.record(source, offset=offset, duration=duration)\n",
        "                try:\n",
        "                    text = recognizer.recognize_google(audio_data, language=\"th-TH\")\n",
        "                    print(f\"ข้อความช่วงที่ {i+1}: {text}\")\n",
        "                except sr.UnknownValueError:\n",
        "                    print(f\"ไม่สามารถถอดเสียงช่วงที่ {i+1} ได้: ไม่สามารถเข้าใจเสียง\")\n",
        "                except sr.RequestError as e:\n",
        "                    print(f\"ไม่สามารถติดต่อกับเซิร์ฟเวอร์ Google Speech API: {e}\")\n",
        "    except FileNotFoundError:\n",
        "        print(\"ไม่พบไฟล์เสียง ตรวจสอบชื่อและตำแหน่งไฟล์อีกครั้ง!\")\n",
        "    except Exception as e:\n",
        "        print(f\"เกิดข้อผิดพลาด: {e}\")\n",
        "\n",
        "transcribe_audio(wav_file, segment_duration=15)\n"
      ],
      "metadata": {
        "id": "MtOMhEk8nUfk"
      },
      "execution_count": null,
      "outputs": []
    }
  ]
}